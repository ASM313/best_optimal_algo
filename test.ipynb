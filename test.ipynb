{
 "cells": [
  {
   "cell_type": "code",
   "execution_count": 13,
   "metadata": {},
   "outputs": [],
   "source": [
    "import numpy as np\n",
    "import pandas as pd\n",
    "from sklearn.model_selection import train_test_split\n",
    "from src.best_optimal_algo import BestOptimalAlgo\n",
    "# from datetime import datetime\n"
   ]
  },
  {
   "cell_type": "code",
   "execution_count": 14,
   "metadata": {},
   "outputs": [],
   "source": [
    "dataset = pd.read_csv(\"notebook/data.csv\")\n",
    "\n",
    "X = dataset.drop([\"class\"], axis=1)\n",
    "Y = dataset[[\"class\"]]\n"
   ]
  },
  {
   "cell_type": "code",
   "execution_count": 15,
   "metadata": {},
   "outputs": [],
   "source": [
    "X_tr, X_t, y_tr, y_t = train_test_split(X, Y, test_size=0.2, random_state=42)\n",
    "\n",
    "model: pd.DataFrame() = []\n",
    "best_model = []\n"
   ]
  },
  {
   "cell_type": "code",
   "execution_count": 16,
   "metadata": {},
   "outputs": [
    {
     "ename": "ValueError",
     "evalue": "too many values to unpack (expected 2)",
     "output_type": "error",
     "traceback": [
      "\u001b[1;31m---------------------------------------------------------------------------\u001b[0m",
      "\u001b[1;31mValueError\u001b[0m                                Traceback (most recent call last)",
      "\u001b[1;32mg:\\Projects\\best_optimal_algo\\test.ipynb Cell 4\u001b[0m line \u001b[0;36m5\n\u001b[0;32m      <a href='vscode-notebook-cell:/g%3A/Projects/best_optimal_algo/test.ipynb#W3sZmlsZQ%3D%3D?line=0'>1</a>\u001b[0m algo \u001b[39m=\u001b[39m BestOptimalAlgo(X_train\u001b[39m=\u001b[39mX_tr,X_test\u001b[39m=\u001b[39mX_t, y_test\u001b[39m=\u001b[39my_t, y_train\u001b[39m=\u001b[39my_tr)\n\u001b[0;32m      <a href='vscode-notebook-cell:/g%3A/Projects/best_optimal_algo/test.ipynb#W3sZmlsZQ%3D%3D?line=2'>3</a>\u001b[0m \u001b[39m# startTime = datetime.now()\u001b[39;00m\n\u001b[1;32m----> <a href='vscode-notebook-cell:/g%3A/Projects/best_optimal_algo/test.ipynb#W3sZmlsZQ%3D%3D?line=4'>5</a>\u001b[0m model, params \u001b[39m=\u001b[39m algo\u001b[39m.\u001b[39mbest_optimal_algo()\n\u001b[0;32m      <a href='vscode-notebook-cell:/g%3A/Projects/best_optimal_algo/test.ipynb#W3sZmlsZQ%3D%3D?line=6'>7</a>\u001b[0m \u001b[39m# endTime =  datetime.now()\u001b[39;00m\n\u001b[0;32m      <a href='vscode-notebook-cell:/g%3A/Projects/best_optimal_algo/test.ipynb#W3sZmlsZQ%3D%3D?line=8'>9</a>\u001b[0m \u001b[39mprint\u001b[39m(model)\n",
      "\u001b[1;31mValueError\u001b[0m: too many values to unpack (expected 2)"
     ]
    }
   ],
   "source": [
    "\n",
    "\n",
    "algo = BestOptimalAlgo(X_train=X_tr,X_test=X_t, y_test=y_t, y_train=y_tr)\n",
    "\n",
    "# startTime = datetime.now()\n",
    "\n",
    "model = algo.best_optimal_algo()\n",
    "\n",
    "# endTime =  datetime.now()\n",
    "\n",
    "print(model[0])\n",
    "print(\"\\n ------------------------------------------------------------\")\n",
    "print(\"Applied Parameters : \")\n",
    "print(\"\\n\")\n",
    "# print(params['Parameters'])\n",
    "\n",
    "# for p in model['Parameters']:\n",
    "#     #print(list(zip(p.keys(),p.values())))\n",
    "#     print(p)"
   ]
  },
  {
   "cell_type": "code",
   "execution_count": null,
   "metadata": {},
   "outputs": [],
   "source": []
  },
  {
   "cell_type": "code",
   "execution_count": null,
   "metadata": {},
   "outputs": [],
   "source": []
  }
 ],
 "metadata": {
  "kernelspec": {
   "display_name": "Python 3",
   "language": "python",
   "name": "python3"
  },
  "language_info": {
   "codemirror_mode": {
    "name": "ipython",
    "version": 3
   },
   "file_extension": ".py",
   "mimetype": "text/x-python",
   "name": "python",
   "nbconvert_exporter": "python",
   "pygments_lexer": "ipython3",
   "version": "3.8.0"
  }
 },
 "nbformat": 4,
 "nbformat_minor": 2
}
